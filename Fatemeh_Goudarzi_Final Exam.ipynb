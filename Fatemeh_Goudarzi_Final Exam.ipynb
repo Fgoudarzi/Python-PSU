{
 "cells": [
  {
   "cell_type": "markdown",
   "metadata": {},
   "source": [
    "# Fatemeh Goudarzi"
   ]
  },
  {
   "cell_type": "markdown",
   "metadata": {},
   "source": [
    "# Final Exam"
   ]
  },
  {
   "cell_type": "markdown",
   "metadata": {},
   "source": [
    "## 1) Question 1: Data Understanding"
   ]
  },
  {
   "cell_type": "code",
   "execution_count": 21,
   "metadata": {},
   "outputs": [],
   "source": [
    "# Import necessary libraries\n",
    "import os\n",
    "import pandas as pd\n",
    "import numpy as np\n",
    "import matplotlib.pyplot as plt\n",
    "from sklearn.model_selection import train_test_split\n",
    "from sklearn.preprocessing import StandardScaler\n",
    "from sklearn.preprocessing import MinMaxScaler\n",
    "from sklearn import linear_model\n",
    "from sklearn import tree\n",
    "from sklearn.neural_network import MLPClassifier\n",
    "from sklearn.naive_bayes import GaussianNB\n",
    "from sklearn import svm\n",
    "from sklearn.ensemble import RandomForestClassifier\n",
    "from sklearn.ensemble import AdaBoostClassifier\n",
    "from sklearn.model_selection import ParameterGrid\n",
    "from sklearn.model_selection import ParameterSampler\n",
    "from sklearn import metrics\n",
    "from graphviz import Source\n",
    "# Set display settings\n",
    "pd.set_option('display.max_colwidth', 80)"
   ]
  },
  {
   "cell_type": "code",
   "execution_count": 31,
   "metadata": {},
   "outputs": [],
   "source": [
    "# Change the default path\n",
    "path='../data'\n",
    "os.chdir(path)"
   ]
  },
  {
   "cell_type": "code",
   "execution_count": 32,
   "metadata": {},
   "outputs": [],
   "source": [
    "# Read the datasets\n",
    "user_features=pd.read_csv(\"user_features.csv\")\n",
    "product_features=pd.read_csv(\"product_features.csv\")\n",
    "click_history=pd.read_csv(\"click_history.csv\")"
   ]
  },
  {
   "cell_type": "markdown",
   "metadata": {},
   "source": [
    "### Explore \"user_features\":"
   ]
  },
  {
   "cell_type": "code",
   "execution_count": 33,
   "metadata": {},
   "outputs": [
    {
     "name": "stdout",
     "output_type": "stream",
     "text": [
      "'user_features': (12000, 4)\n"
     ]
    }
   ],
   "source": [
    "# Print the shape of each dataset\n",
    "print(\"\\'user_features\\':\",user_features.shape )"
   ]
  },
  {
   "cell_type": "code",
   "execution_count": 5,
   "metadata": {},
   "outputs": [
    {
     "data": {
      "text/plain": [
       "user_id                     int64\n",
       "number_of_clicks_before    object\n",
       "ordered_before               bool\n",
       "personal_interests         object\n",
       "dtype: object"
      ]
     },
     "execution_count": 5,
     "metadata": {},
     "output_type": "execute_result"
    }
   ],
   "source": [
    "# Which data_types does \"user_features\" contain?\n",
    "user_features.dtypes"
   ]
  },
  {
   "cell_type": "code",
   "execution_count": 6,
   "metadata": {},
   "outputs": [
    {
     "data": {
      "text/html": [
       "<div>\n",
       "<style scoped>\n",
       "    .dataframe tbody tr th:only-of-type {\n",
       "        vertical-align: middle;\n",
       "    }\n",
       "\n",
       "    .dataframe tbody tr th {\n",
       "        vertical-align: top;\n",
       "    }\n",
       "\n",
       "    .dataframe thead th {\n",
       "        text-align: right;\n",
       "    }\n",
       "</style>\n",
       "<table border=\"1\" class=\"dataframe\">\n",
       "  <thead>\n",
       "    <tr style=\"text-align: right;\">\n",
       "      <th></th>\n",
       "      <th>user_id</th>\n",
       "      <th>number_of_clicks_before</th>\n",
       "      <th>ordered_before</th>\n",
       "      <th>personal_interests</th>\n",
       "    </tr>\n",
       "  </thead>\n",
       "  <tbody>\n",
       "    <tr>\n",
       "      <th>0</th>\n",
       "      <td>104939</td>\n",
       "      <td>2</td>\n",
       "      <td>True</td>\n",
       "      <td>['body', 'makeup', 'nail', 'hand', 'foot', 'men_fragrance', 'fragrance', 'ha...</td>\n",
       "    </tr>\n",
       "    <tr>\n",
       "      <th>1</th>\n",
       "      <td>101562</td>\n",
       "      <td>2</td>\n",
       "      <td>True</td>\n",
       "      <td>['men_skincare', 'men_fragrance', 'tools', 'skincare', 'nail', 'body', 'make...</td>\n",
       "    </tr>\n",
       "    <tr>\n",
       "      <th>2</th>\n",
       "      <td>102343</td>\n",
       "      <td>2</td>\n",
       "      <td>True</td>\n",
       "      <td>['tools', 'makeup', 'foot', 'nail']</td>\n",
       "    </tr>\n",
       "    <tr>\n",
       "      <th>3</th>\n",
       "      <td>106728</td>\n",
       "      <td>5</td>\n",
       "      <td>True</td>\n",
       "      <td>['hand', 'men_skincare']</td>\n",
       "    </tr>\n",
       "    <tr>\n",
       "      <th>4</th>\n",
       "      <td>107179</td>\n",
       "      <td>0</td>\n",
       "      <td>True</td>\n",
       "      <td>['makeup', 'body', 'skincare', 'foot', 'men_skincare', 'fragrance', 'hair']</td>\n",
       "    </tr>\n",
       "  </tbody>\n",
       "</table>\n",
       "</div>"
      ],
      "text/plain": [
       "   user_id number_of_clicks_before  ordered_before  \\\n",
       "0   104939                       2            True   \n",
       "1   101562                       2            True   \n",
       "2   102343                       2            True   \n",
       "3   106728                       5            True   \n",
       "4   107179                       0            True   \n",
       "\n",
       "                                                                personal_interests  \n",
       "0  ['body', 'makeup', 'nail', 'hand', 'foot', 'men_fragrance', 'fragrance', 'ha...  \n",
       "1  ['men_skincare', 'men_fragrance', 'tools', 'skincare', 'nail', 'body', 'make...  \n",
       "2                                              ['tools', 'makeup', 'foot', 'nail']  \n",
       "3                                                         ['hand', 'men_skincare']  \n",
       "4      ['makeup', 'body', 'skincare', 'foot', 'men_skincare', 'fragrance', 'hair']  "
      ]
     },
     "execution_count": 6,
     "metadata": {},
     "output_type": "execute_result"
    }
   ],
   "source": [
    "# What does \"user_features\" dataset look like?\n",
    "user_features.head()"
   ]
  },
  {
   "cell_type": "code",
   "execution_count": 7,
   "metadata": {},
   "outputs": [
    {
     "data": {
      "text/plain": [
       "user_id                    12000\n",
       "number_of_clicks_before        7\n",
       "ordered_before                 2\n",
       "personal_interests          8316\n",
       "dtype: int64"
      ]
     },
     "execution_count": 7,
     "metadata": {},
     "output_type": "execute_result"
    }
   ],
   "source": [
    "# How many unique value does each column of \"user_features\" have?\n",
    "user_features.nunique()"
   ]
  },
  {
   "cell_type": "code",
   "execution_count": 8,
   "metadata": {},
   "outputs": [
    {
     "data": {
      "text/plain": [
       "1096"
      ]
     },
     "execution_count": 8,
     "metadata": {},
     "output_type": "execute_result"
    }
   ],
   "source": [
    "# Does column \"personal_interest\" contain any empty list? \n",
    "(user_features.personal_interests.astype('str')=='[]').sum()"
   ]
  },
  {
   "cell_type": "code",
   "execution_count": 9,
   "metadata": {},
   "outputs": [
    {
     "data": {
      "text/plain": [
       "0"
      ]
     },
     "execution_count": 9,
     "metadata": {},
     "output_type": "execute_result"
    }
   ],
   "source": [
    "# How many douplicated \"user_id\" there is in \"user_features\"?\n",
    "user_features.user_id.duplicated().sum()"
   ]
  },
  {
   "cell_type": "code",
   "execution_count": 10,
   "metadata": {},
   "outputs": [
    {
     "data": {
      "text/plain": [
       "user_id                      0\n",
       "number_of_clicks_before    500\n",
       "ordered_before               0\n",
       "personal_interests           0\n",
       "dtype: int64"
      ]
     },
     "execution_count": 10,
     "metadata": {},
     "output_type": "execute_result"
    }
   ],
   "source": [
    "# How many missing values there are in \"user_features\"?\n",
    "user_features.isnull().sum()"
   ]
  },
  {
   "cell_type": "code",
   "execution_count": 11,
   "metadata": {},
   "outputs": [
    {
     "data": {
      "text/plain": [
       "array(['2', '5', '0', '4', '1', '6+', nan, '3'], dtype=object)"
      ]
     },
     "execution_count": 11,
     "metadata": {},
     "output_type": "execute_result"
    }
   ],
   "source": [
    "# View the unique values of \"number_of_clicks_before':\n",
    "user_features.number_of_clicks_before.unique()"
   ]
  },
  {
   "cell_type": "markdown",
   "metadata": {},
   "source": [
    "Data exploration summary for \"user_features\": There is no duplicated row; there is no duplicated user_id; there are some missing values in \"number_of_clicks_before\". Also, column \"personal_intrest\" has some empty list."
   ]
  },
  {
   "cell_type": "markdown",
   "metadata": {},
   "source": [
    "### Explore \"product_features\""
   ]
  },
  {
   "cell_type": "code",
   "execution_count": 12,
   "metadata": {},
   "outputs": [
    {
     "name": "stdout",
     "output_type": "stream",
     "text": [
      "'product_features': (1000, 5)\n"
     ]
    }
   ],
   "source": [
    "print(\"\\'product_features\\':\",product_features.shape)"
   ]
  },
  {
   "cell_type": "code",
   "execution_count": 13,
   "metadata": {},
   "outputs": [
    {
     "data": {
      "text/plain": [
       "product_id             int64\n",
       "category              object\n",
       "on_sale                 bool\n",
       "number_of_reviews      int64\n",
       "avg_review_score     float64\n",
       "dtype: object"
      ]
     },
     "execution_count": 13,
     "metadata": {},
     "output_type": "execute_result"
    }
   ],
   "source": [
    "# What data types does \"product_features\" dataset have?\n",
    "product_features.dtypes"
   ]
  },
  {
   "cell_type": "code",
   "execution_count": 14,
   "metadata": {},
   "outputs": [
    {
     "data": {
      "text/plain": [
       "product_id           1000\n",
       "category               11\n",
       "on_sale                 2\n",
       "number_of_reviews     602\n",
       "avg_review_score      828\n",
       "dtype: int64"
      ]
     },
     "execution_count": 14,
     "metadata": {},
     "output_type": "execute_result"
    }
   ],
   "source": [
    "# How many unique values does each column have?\n",
    "product_features.nunique()"
   ]
  },
  {
   "cell_type": "code",
   "execution_count": 15,
   "metadata": {},
   "outputs": [
    {
     "data": {
      "text/html": [
       "<div>\n",
       "<style scoped>\n",
       "    .dataframe tbody tr th:only-of-type {\n",
       "        vertical-align: middle;\n",
       "    }\n",
       "\n",
       "    .dataframe tbody tr th {\n",
       "        vertical-align: top;\n",
       "    }\n",
       "\n",
       "    .dataframe thead th {\n",
       "        text-align: right;\n",
       "    }\n",
       "</style>\n",
       "<table border=\"1\" class=\"dataframe\">\n",
       "  <thead>\n",
       "    <tr style=\"text-align: right;\">\n",
       "      <th></th>\n",
       "      <th>product_id</th>\n",
       "      <th>category</th>\n",
       "      <th>on_sale</th>\n",
       "      <th>number_of_reviews</th>\n",
       "      <th>avg_review_score</th>\n",
       "    </tr>\n",
       "  </thead>\n",
       "  <tbody>\n",
       "    <tr>\n",
       "      <th>0</th>\n",
       "      <td>1134</td>\n",
       "      <td>tools</td>\n",
       "      <td>False</td>\n",
       "      <td>101</td>\n",
       "      <td>3.349452</td>\n",
       "    </tr>\n",
       "    <tr>\n",
       "      <th>1</th>\n",
       "      <td>1846</td>\n",
       "      <td>skincare</td>\n",
       "      <td>False</td>\n",
       "      <td>111</td>\n",
       "      <td>5.000000</td>\n",
       "    </tr>\n",
       "    <tr>\n",
       "      <th>2</th>\n",
       "      <td>1762</td>\n",
       "      <td>fragrance</td>\n",
       "      <td>False</td>\n",
       "      <td>220</td>\n",
       "      <td>4.882706</td>\n",
       "    </tr>\n",
       "    <tr>\n",
       "      <th>3</th>\n",
       "      <td>1254</td>\n",
       "      <td>hair</td>\n",
       "      <td>True</td>\n",
       "      <td>446</td>\n",
       "      <td>5.000000</td>\n",
       "    </tr>\n",
       "    <tr>\n",
       "      <th>4</th>\n",
       "      <td>1493</td>\n",
       "      <td>body</td>\n",
       "      <td>True</td>\n",
       "      <td>513</td>\n",
       "      <td>-1.000000</td>\n",
       "    </tr>\n",
       "  </tbody>\n",
       "</table>\n",
       "</div>"
      ],
      "text/plain": [
       "   product_id   category  on_sale  number_of_reviews  avg_review_score\n",
       "0        1134      tools    False                101          3.349452\n",
       "1        1846   skincare    False                111          5.000000\n",
       "2        1762  fragrance    False                220          4.882706\n",
       "3        1254       hair     True                446          5.000000\n",
       "4        1493       body     True                513         -1.000000"
      ]
     },
     "execution_count": 15,
     "metadata": {},
     "output_type": "execute_result"
    }
   ],
   "source": [
    "# How does \"product_features\" look like?\n",
    "product_features.head()"
   ]
  },
  {
   "cell_type": "code",
   "execution_count": 16,
   "metadata": {},
   "outputs": [
    {
     "data": {
      "text/plain": [
       "0"
      ]
     },
     "execution_count": 16,
     "metadata": {},
     "output_type": "execute_result"
    }
   ],
   "source": [
    "# Is there any duplicated \"product_id\"?\n",
    "product_features.product_id.duplicated().sum()"
   ]
  },
  {
   "cell_type": "code",
   "execution_count": 17,
   "metadata": {},
   "outputs": [
    {
     "data": {
      "text/plain": [
       "0"
      ]
     },
     "execution_count": 17,
     "metadata": {},
     "output_type": "execute_result"
    }
   ],
   "source": [
    "# Is there any duplicated rows?\n",
    "product_features.product_id.duplicated().sum()"
   ]
  },
  {
   "cell_type": "code",
   "execution_count": 18,
   "metadata": {},
   "outputs": [
    {
     "data": {
      "text/plain": [
       "product_id           0\n",
       "category             0\n",
       "on_sale              0\n",
       "number_of_reviews    0\n",
       "avg_review_score     0\n",
       "dtype: int64"
      ]
     },
     "execution_count": 18,
     "metadata": {},
     "output_type": "execute_result"
    }
   ],
   "source": [
    "# How many missing values?\n",
    "product_features.isnull().sum()"
   ]
  },
  {
   "cell_type": "code",
   "execution_count": 19,
   "metadata": {},
   "outputs": [
    {
     "data": {
      "text/html": [
       "<div>\n",
       "<style scoped>\n",
       "    .dataframe tbody tr th:only-of-type {\n",
       "        vertical-align: middle;\n",
       "    }\n",
       "\n",
       "    .dataframe tbody tr th {\n",
       "        vertical-align: top;\n",
       "    }\n",
       "\n",
       "    .dataframe thead th {\n",
       "        text-align: right;\n",
       "    }\n",
       "</style>\n",
       "<table border=\"1\" class=\"dataframe\">\n",
       "  <thead>\n",
       "    <tr style=\"text-align: right;\">\n",
       "      <th></th>\n",
       "      <th>product_id</th>\n",
       "      <th>number_of_reviews</th>\n",
       "      <th>avg_review_score</th>\n",
       "    </tr>\n",
       "  </thead>\n",
       "  <tbody>\n",
       "    <tr>\n",
       "      <th>count</th>\n",
       "      <td>1000.000000</td>\n",
       "      <td>1.000000e+03</td>\n",
       "      <td>1000.000000</td>\n",
       "    </tr>\n",
       "    <tr>\n",
       "      <th>mean</th>\n",
       "      <td>1499.500000</td>\n",
       "      <td>1.157725e+05</td>\n",
       "      <td>2.660656</td>\n",
       "    </tr>\n",
       "    <tr>\n",
       "      <th>std</th>\n",
       "      <td>288.819436</td>\n",
       "      <td>5.028997e+05</td>\n",
       "      <td>1.741875</td>\n",
       "    </tr>\n",
       "    <tr>\n",
       "      <th>min</th>\n",
       "      <td>1000.000000</td>\n",
       "      <td>6.600000e+01</td>\n",
       "      <td>-1.000000</td>\n",
       "    </tr>\n",
       "    <tr>\n",
       "      <th>25%</th>\n",
       "      <td>1249.750000</td>\n",
       "      <td>2.570000e+02</td>\n",
       "      <td>1.428969</td>\n",
       "    </tr>\n",
       "    <tr>\n",
       "      <th>50%</th>\n",
       "      <td>1499.500000</td>\n",
       "      <td>4.710000e+02</td>\n",
       "      <td>2.769397</td>\n",
       "    </tr>\n",
       "    <tr>\n",
       "      <th>75%</th>\n",
       "      <td>1749.250000</td>\n",
       "      <td>7.042500e+02</td>\n",
       "      <td>4.180860</td>\n",
       "    </tr>\n",
       "    <tr>\n",
       "      <th>max</th>\n",
       "      <td>1999.000000</td>\n",
       "      <td>2.307390e+06</td>\n",
       "      <td>5.000000</td>\n",
       "    </tr>\n",
       "  </tbody>\n",
       "</table>\n",
       "</div>"
      ],
      "text/plain": [
       "        product_id  number_of_reviews  avg_review_score\n",
       "count  1000.000000       1.000000e+03       1000.000000\n",
       "mean   1499.500000       1.157725e+05          2.660656\n",
       "std     288.819436       5.028997e+05          1.741875\n",
       "min    1000.000000       6.600000e+01         -1.000000\n",
       "25%    1249.750000       2.570000e+02          1.428969\n",
       "50%    1499.500000       4.710000e+02          2.769397\n",
       "75%    1749.250000       7.042500e+02          4.180860\n",
       "max    1999.000000       2.307390e+06          5.000000"
      ]
     },
     "execution_count": 19,
     "metadata": {},
     "output_type": "execute_result"
    }
   ],
   "source": [
    "product_features.describe()"
   ]
  },
  {
   "cell_type": "code",
   "execution_count": 20,
   "metadata": {},
   "outputs": [
    {
     "data": {
      "text/plain": [
       "array([[<matplotlib.axes._subplots.AxesSubplot object at 0x000002155EEE9D68>,\n",
       "        <matplotlib.axes._subplots.AxesSubplot object at 0x00000215021641D0>]],\n",
       "      dtype=object)"
      ]
     },
     "execution_count": 20,
     "metadata": {},
     "output_type": "execute_result"
    },
    {
     "data": {
      "image/png": "[encoded data removed]",
      "text/plain": [
       "<Figure size 432x288 with 2 Axes>"
      ]
     },
     "metadata": {
      "needs_background": "light"
     },
     "output_type": "display_data"
    }
   ],
   "source": [
    "product_features[[\"number_of_reviews\",\"avg_review_score\"]].hist()"
   ]
  },
  {
   "cell_type": "code",
   "execution_count": 21,
   "metadata": {},
   "outputs": [
    {
     "data": {
      "text/plain": [
       "<matplotlib.axes._subplots.AxesSubplot at 0x21502608b70>"
      ]
     },
     "execution_count": 21,
     "metadata": {},
     "output_type": "execute_result"
    },
    {
     "data": {
      "image/png": "[encoded data removed]",
      "text/plain": [
       "<Figure size 432x288 with 2 Axes>"
      ]
     },
     "metadata": {
      "needs_background": "light"
     },
     "output_type": "display_data"
    }
   ],
   "source": [
    "fig, axs = plt.subplots(ncols = 2,figsize=(6,4))\n",
    "plt.tight_layout(w_pad = 1.5)\n",
    "product_features[[\"number_of_reviews\"]].boxplot(ax = axs[0])\n",
    "product_features[[\"avg_review_score\"]].boxplot(ax = axs[1])"
   ]
  },
  {
   "cell_type": "markdown",
   "metadata": {},
   "source": [
    "Data exploration summary for \"product_features\": There is no duplicated row; there is no duplicated product_id; there is no missing values. The box plot for \"number of reviews\" shows there are some outliers. Also, avg_review_score is negetive for some data points."
   ]
  },
  {
   "cell_type": "markdown",
   "metadata": {},
   "source": [
    "### Explore \"click_history\""
   ]
  },
  {
   "cell_type": "code",
   "execution_count": 22,
   "metadata": {},
   "outputs": [
    {
     "name": "stdout",
     "output_type": "stream",
     "text": [
      "'click_history': (35990, 3)\n"
     ]
    }
   ],
   "source": [
    "print(\"\\'click_history\\':\",click_history.shape)"
   ]
  },
  {
   "cell_type": "code",
   "execution_count": 23,
   "metadata": {},
   "outputs": [
    {
     "data": {
      "text/plain": [
       "user_id       int64\n",
       "product_id    int64\n",
       "clicked        bool\n",
       "dtype: object"
      ]
     },
     "execution_count": 23,
     "metadata": {},
     "output_type": "execute_result"
    }
   ],
   "source": [
    "# Which data types does \"click_history\" contain?\n",
    "click_history.dtypes"
   ]
  },
  {
   "cell_type": "code",
   "execution_count": 24,
   "metadata": {},
   "outputs": [
    {
     "data": {
      "text/html": [
       "<div>\n",
       "<style scoped>\n",
       "    .dataframe tbody tr th:only-of-type {\n",
       "        vertical-align: middle;\n",
       "    }\n",
       "\n",
       "    .dataframe tbody tr th {\n",
       "        vertical-align: top;\n",
       "    }\n",
       "\n",
       "    .dataframe thead th {\n",
       "        text-align: right;\n",
       "    }\n",
       "</style>\n",
       "<table border=\"1\" class=\"dataframe\">\n",
       "  <thead>\n",
       "    <tr style=\"text-align: right;\">\n",
       "      <th></th>\n",
       "      <th>user_id</th>\n",
       "      <th>product_id</th>\n",
       "      <th>clicked</th>\n",
       "    </tr>\n",
       "  </thead>\n",
       "  <tbody>\n",
       "    <tr>\n",
       "      <th>0</th>\n",
       "      <td>104863</td>\n",
       "      <td>1350</td>\n",
       "      <td>False</td>\n",
       "    </tr>\n",
       "    <tr>\n",
       "      <th>1</th>\n",
       "      <td>108656</td>\n",
       "      <td>1321</td>\n",
       "      <td>True</td>\n",
       "    </tr>\n",
       "    <tr>\n",
       "      <th>2</th>\n",
       "      <td>100120</td>\n",
       "      <td>1110</td>\n",
       "      <td>False</td>\n",
       "    </tr>\n",
       "    <tr>\n",
       "      <th>3</th>\n",
       "      <td>104838</td>\n",
       "      <td>1443</td>\n",
       "      <td>True</td>\n",
       "    </tr>\n",
       "    <tr>\n",
       "      <th>4</th>\n",
       "      <td>107304</td>\n",
       "      <td>1397</td>\n",
       "      <td>True</td>\n",
       "    </tr>\n",
       "  </tbody>\n",
       "</table>\n",
       "</div>"
      ],
      "text/plain": [
       "   user_id  product_id  clicked\n",
       "0   104863        1350    False\n",
       "1   108656        1321     True\n",
       "2   100120        1110    False\n",
       "3   104838        1443     True\n",
       "4   107304        1397     True"
      ]
     },
     "execution_count": 24,
     "metadata": {},
     "output_type": "execute_result"
    }
   ],
   "source": [
    "# See the head of \"click_history\":\n",
    "click_history.head()"
   ]
  },
  {
   "cell_type": "code",
   "execution_count": 25,
   "metadata": {},
   "outputs": [
    {
     "data": {
      "text/plain": [
       "user_id       0\n",
       "product_id    0\n",
       "clicked       0\n",
       "dtype: int64"
      ]
     },
     "execution_count": 25,
     "metadata": {},
     "output_type": "execute_result"
    }
   ],
   "source": [
    "# Is there any missing values?\n",
    "click_history.isnull().sum()"
   ]
  },
  {
   "cell_type": "code",
   "execution_count": 26,
   "metadata": {},
   "outputs": [
    {
     "data": {
      "text/plain": [
       "0"
      ]
     },
     "execution_count": 26,
     "metadata": {},
     "output_type": "execute_result"
    }
   ],
   "source": [
    "# Is there any douplicated row in the \"click_history\" dataset?\n",
    "click_history.duplicated().sum()"
   ]
  },
  {
   "cell_type": "code",
   "execution_count": 27,
   "metadata": {},
   "outputs": [
    {
     "data": {
      "text/plain": [
       "0"
      ]
     },
     "execution_count": 27,
     "metadata": {},
     "output_type": "execute_result"
    }
   ],
   "source": [
    "# Is there any douplicated row in the \"click_history\" dataset?\n",
    "click_history.duplicated().sum()"
   ]
  },
  {
   "cell_type": "markdown",
   "metadata": {},
   "source": [
    "Data exploration summary for \"click_history\": It has 3 features, \"user_id\" , \"product_id\" and \"clicked\". Clicked is Boolean and it would be the target variable. Also, this data set does not have any duplicated rows, duplicated product_id or missing values."
   ]
  },
  {
   "cell_type": "markdown",
   "metadata": {},
   "source": [
    "# Question 2: Data Cleaning and Preprocessing"
   ]
  },
  {
   "cell_type": "code",
   "execution_count": 28,
   "metadata": {},
   "outputs": [],
   "source": [
    "# Remove negetive values of \"product_features.avg_review_score\"\n",
    "lab=product_features[product_features.avg_review_score <0].index\n",
    "product_features.drop(lab, axis=0,inplace=True)"
   ]
  },
  {
   "cell_type": "markdown",
   "metadata": {},
   "source": [
    "# Merging"
   ]
  },
  {
   "cell_type": "code",
   "execution_count": 29,
   "metadata": {},
   "outputs": [
    {
     "data": {
      "text/plain": [
       "(33176, 10)"
      ]
     },
     "execution_count": 29,
     "metadata": {},
     "output_type": "execute_result"
    }
   ],
   "source": [
    "# Merge data sets\n",
    "merged_data=click_history.merge(product_features,on=\"product_id\",how=\"inner\").merge(user_features,on=\"user_id\",how=\"inner\")\n",
    "merged_data.shape"
   ]
  },
  {
   "cell_type": "code",
   "execution_count": 30,
   "metadata": {},
   "outputs": [
    {
     "data": {
      "text/html": [
       "<div>\n",
       "<style scoped>\n",
       "    .dataframe tbody tr th:only-of-type {\n",
       "        vertical-align: middle;\n",
       "    }\n",
       "\n",
       "    .dataframe tbody tr th {\n",
       "        vertical-align: top;\n",
       "    }\n",
       "\n",
       "    .dataframe thead th {\n",
       "        text-align: right;\n",
       "    }\n",
       "</style>\n",
       "<table border=\"1\" class=\"dataframe\">\n",
       "  <thead>\n",
       "    <tr style=\"text-align: right;\">\n",
       "      <th></th>\n",
       "      <th>user_id</th>\n",
       "      <th>product_id</th>\n",
       "      <th>clicked</th>\n",
       "      <th>category</th>\n",
       "      <th>on_sale</th>\n",
       "      <th>number_of_reviews</th>\n",
       "      <th>avg_review_score</th>\n",
       "      <th>number_of_clicks_before</th>\n",
       "      <th>ordered_before</th>\n",
       "      <th>personal_interests</th>\n",
       "    </tr>\n",
       "  </thead>\n",
       "  <tbody>\n",
       "    <tr>\n",
       "      <th>0</th>\n",
       "      <td>104863</td>\n",
       "      <td>1350</td>\n",
       "      <td>False</td>\n",
       "      <td>nail</td>\n",
       "      <td>False</td>\n",
       "      <td>136</td>\n",
       "      <td>2.653361</td>\n",
       "      <td>2</td>\n",
       "      <td>True</td>\n",
       "      <td>['hair', 'body']</td>\n",
       "    </tr>\n",
       "    <tr>\n",
       "      <th>1</th>\n",
       "      <td>104863</td>\n",
       "      <td>1617</td>\n",
       "      <td>True</td>\n",
       "      <td>foot</td>\n",
       "      <td>True</td>\n",
       "      <td>279</td>\n",
       "      <td>4.924063</td>\n",
       "      <td>2</td>\n",
       "      <td>True</td>\n",
       "      <td>['hair', 'body']</td>\n",
       "    </tr>\n",
       "    <tr>\n",
       "      <th>2</th>\n",
       "      <td>104863</td>\n",
       "      <td>1959</td>\n",
       "      <td>False</td>\n",
       "      <td>body</td>\n",
       "      <td>True</td>\n",
       "      <td>540</td>\n",
       "      <td>3.049224</td>\n",
       "      <td>2</td>\n",
       "      <td>True</td>\n",
       "      <td>['hair', 'body']</td>\n",
       "    </tr>\n",
       "    <tr>\n",
       "      <th>3</th>\n",
       "      <td>104863</td>\n",
       "      <td>1920</td>\n",
       "      <td>False</td>\n",
       "      <td>body</td>\n",
       "      <td>True</td>\n",
       "      <td>776</td>\n",
       "      <td>1.562768</td>\n",
       "      <td>2</td>\n",
       "      <td>True</td>\n",
       "      <td>['hair', 'body']</td>\n",
       "    </tr>\n",
       "    <tr>\n",
       "      <th>4</th>\n",
       "      <td>104863</td>\n",
       "      <td>1138</td>\n",
       "      <td>False</td>\n",
       "      <td>makeup</td>\n",
       "      <td>True</td>\n",
       "      <td>104</td>\n",
       "      <td>1.996069</td>\n",
       "      <td>2</td>\n",
       "      <td>True</td>\n",
       "      <td>['hair', 'body']</td>\n",
       "    </tr>\n",
       "  </tbody>\n",
       "</table>\n",
       "</div>"
      ],
      "text/plain": [
       "   user_id  product_id  clicked category  on_sale  number_of_reviews  \\\n",
       "0   104863        1350    False     nail    False                136   \n",
       "1   104863        1617     True     foot     True                279   \n",
       "2   104863        1959    False     body     True                540   \n",
       "3   104863        1920    False     body     True                776   \n",
       "4   104863        1138    False   makeup     True                104   \n",
       "\n",
       "   avg_review_score number_of_clicks_before  ordered_before personal_interests  \n",
       "0          2.653361                       2            True   ['hair', 'body']  \n",
       "1          4.924063                       2            True   ['hair', 'body']  \n",
       "2          3.049224                       2            True   ['hair', 'body']  \n",
       "3          1.562768                       2            True   ['hair', 'body']  \n",
       "4          1.996069                       2            True   ['hair', 'body']  "
      ]
     },
     "execution_count": 30,
     "metadata": {},
     "output_type": "execute_result"
    }
   ],
   "source": [
    "merged_data.head(5)"
   ]
  },
  {
   "cell_type": "code",
   "execution_count": 31,
   "metadata": {},
   "outputs": [
    {
     "data": {
      "text/plain": [
       "0"
      ]
     },
     "execution_count": 31,
     "metadata": {},
     "output_type": "execute_result"
    }
   ],
   "source": [
    "merged_data.duplicated().sum()"
   ]
  },
  {
   "cell_type": "code",
   "execution_count": 32,
   "metadata": {},
   "outputs": [],
   "source": [
    "# Character replacement\n",
    "merged_data.personal_interests=merged_data.personal_interests.str.replace('\\[','')\n",
    "merged_data.personal_interests=merged_data.personal_interests.str.replace('\\]','')\n",
    "merged_data.personal_interests=merged_data.personal_interests.str.replace('\\'','')\n",
    "merged_data.personal_interests=merged_data.personal_interests.str.replace(',','')"
   ]
  },
  {
   "cell_type": "code",
   "execution_count": 33,
   "metadata": {},
   "outputs": [
    {
     "data": {
      "text/html": [
       "<div>\n",
       "<style scoped>\n",
       "    .dataframe tbody tr th:only-of-type {\n",
       "        vertical-align: middle;\n",
       "    }\n",
       "\n",
       "    .dataframe tbody tr th {\n",
       "        vertical-align: top;\n",
       "    }\n",
       "\n",
       "    .dataframe thead th {\n",
       "        text-align: right;\n",
       "    }\n",
       "</style>\n",
       "<table border=\"1\" class=\"dataframe\">\n",
       "  <thead>\n",
       "    <tr style=\"text-align: right;\">\n",
       "      <th></th>\n",
       "      <th>user_id</th>\n",
       "      <th>product_id</th>\n",
       "      <th>clicked</th>\n",
       "      <th>category</th>\n",
       "      <th>on_sale</th>\n",
       "      <th>number_of_reviews</th>\n",
       "      <th>avg_review_score</th>\n",
       "      <th>number_of_clicks_before</th>\n",
       "      <th>ordered_before</th>\n",
       "      <th>personal_interests</th>\n",
       "    </tr>\n",
       "  </thead>\n",
       "  <tbody>\n",
       "    <tr>\n",
       "      <th>0</th>\n",
       "      <td>104863</td>\n",
       "      <td>1350</td>\n",
       "      <td>False</td>\n",
       "      <td>nail</td>\n",
       "      <td>False</td>\n",
       "      <td>136</td>\n",
       "      <td>2.653361</td>\n",
       "      <td>2</td>\n",
       "      <td>True</td>\n",
       "      <td>hair body</td>\n",
       "    </tr>\n",
       "    <tr>\n",
       "      <th>1</th>\n",
       "      <td>104863</td>\n",
       "      <td>1617</td>\n",
       "      <td>True</td>\n",
       "      <td>foot</td>\n",
       "      <td>True</td>\n",
       "      <td>279</td>\n",
       "      <td>4.924063</td>\n",
       "      <td>2</td>\n",
       "      <td>True</td>\n",
       "      <td>hair body</td>\n",
       "    </tr>\n",
       "    <tr>\n",
       "      <th>2</th>\n",
       "      <td>104863</td>\n",
       "      <td>1959</td>\n",
       "      <td>False</td>\n",
       "      <td>body</td>\n",
       "      <td>True</td>\n",
       "      <td>540</td>\n",
       "      <td>3.049224</td>\n",
       "      <td>2</td>\n",
       "      <td>True</td>\n",
       "      <td>hair body</td>\n",
       "    </tr>\n",
       "  </tbody>\n",
       "</table>\n",
       "</div>"
      ],
      "text/plain": [
       "   user_id  product_id  clicked category  on_sale  number_of_reviews  \\\n",
       "0   104863        1350    False     nail    False                136   \n",
       "1   104863        1617     True     foot     True                279   \n",
       "2   104863        1959    False     body     True                540   \n",
       "\n",
       "   avg_review_score number_of_clicks_before  ordered_before personal_interests  \n",
       "0          2.653361                       2            True          hair body  \n",
       "1          4.924063                       2            True          hair body  \n",
       "2          3.049224                       2            True          hair body  "
      ]
     },
     "execution_count": 33,
     "metadata": {},
     "output_type": "execute_result"
    }
   ],
   "source": [
    "# View the head after the latest change\n",
    "merged_data.head(3)"
   ]
  },
  {
   "cell_type": "code",
   "execution_count": 34,
   "metadata": {},
   "outputs": [
    {
     "data": {
      "text/plain": [
       "(33176, 19)"
      ]
     },
     "execution_count": 34,
     "metadata": {},
     "output_type": "execute_result"
    }
   ],
   "source": [
    "# Split the column of \"personal_interests\" :\n",
    "merged_data = merged_data.join(pd.DataFrame(merged_data['personal_interests'].str.split().values.tolist()))\n",
    "# Drop \"personal_interests\":\n",
    "merged_data.drop(['personal_interests'],axis=1,inplace=True)\n",
    "merged_data.shape"
   ]
  },
  {
   "cell_type": "code",
   "execution_count": 35,
   "metadata": {},
   "outputs": [
    {
     "data": {
      "text/html": [
       "<div>\n",
       "<style scoped>\n",
       "    .dataframe tbody tr th:only-of-type {\n",
       "        vertical-align: middle;\n",
       "    }\n",
       "\n",
       "    .dataframe tbody tr th {\n",
       "        vertical-align: top;\n",
       "    }\n",
       "\n",
       "    .dataframe thead th {\n",
       "        text-align: right;\n",
       "    }\n",
       "</style>\n",
       "<table border=\"1\" class=\"dataframe\">\n",
       "  <thead>\n",
       "    <tr style=\"text-align: right;\">\n",
       "      <th></th>\n",
       "      <th>user_id</th>\n",
       "      <th>product_id</th>\n",
       "      <th>clicked</th>\n",
       "      <th>category</th>\n",
       "      <th>on_sale</th>\n",
       "      <th>number_of_reviews</th>\n",
       "      <th>avg_review_score</th>\n",
       "      <th>number_of_clicks_before</th>\n",
       "      <th>ordered_before</th>\n",
       "      <th>0</th>\n",
       "      <th>1</th>\n",
       "      <th>2</th>\n",
       "      <th>3</th>\n",
       "      <th>4</th>\n",
       "      <th>5</th>\n",
       "      <th>6</th>\n",
       "      <th>7</th>\n",
       "      <th>8</th>\n",
       "      <th>9</th>\n",
       "    </tr>\n",
       "  </thead>\n",
       "  <tbody>\n",
       "    <tr>\n",
       "      <th>0</th>\n",
       "      <td>104863</td>\n",
       "      <td>1350</td>\n",
       "      <td>False</td>\n",
       "      <td>nail</td>\n",
       "      <td>False</td>\n",
       "      <td>136</td>\n",
       "      <td>2.653361</td>\n",
       "      <td>2</td>\n",
       "      <td>True</td>\n",
       "      <td>hair</td>\n",
       "      <td>body</td>\n",
       "      <td>None</td>\n",
       "      <td>None</td>\n",
       "      <td>None</td>\n",
       "      <td>None</td>\n",
       "      <td>None</td>\n",
       "      <td>None</td>\n",
       "      <td>None</td>\n",
       "      <td>None</td>\n",
       "    </tr>\n",
       "    <tr>\n",
       "      <th>1</th>\n",
       "      <td>104863</td>\n",
       "      <td>1617</td>\n",
       "      <td>True</td>\n",
       "      <td>foot</td>\n",
       "      <td>True</td>\n",
       "      <td>279</td>\n",
       "      <td>4.924063</td>\n",
       "      <td>2</td>\n",
       "      <td>True</td>\n",
       "      <td>hair</td>\n",
       "      <td>body</td>\n",
       "      <td>None</td>\n",
       "      <td>None</td>\n",
       "      <td>None</td>\n",
       "      <td>None</td>\n",
       "      <td>None</td>\n",
       "      <td>None</td>\n",
       "      <td>None</td>\n",
       "      <td>None</td>\n",
       "    </tr>\n",
       "    <tr>\n",
       "      <th>2</th>\n",
       "      <td>104863</td>\n",
       "      <td>1959</td>\n",
       "      <td>False</td>\n",
       "      <td>body</td>\n",
       "      <td>True</td>\n",
       "      <td>540</td>\n",
       "      <td>3.049224</td>\n",
       "      <td>2</td>\n",
       "      <td>True</td>\n",
       "      <td>hair</td>\n",
       "      <td>body</td>\n",
       "      <td>None</td>\n",
       "      <td>None</td>\n",
       "      <td>None</td>\n",
       "      <td>None</td>\n",
       "      <td>None</td>\n",
       "      <td>None</td>\n",
       "      <td>None</td>\n",
       "      <td>None</td>\n",
       "    </tr>\n",
       "  </tbody>\n",
       "</table>\n",
       "</div>"
      ],
      "text/plain": [
       "   user_id  product_id  clicked category  on_sale  number_of_reviews  \\\n",
       "0   104863        1350    False     nail    False                136   \n",
       "1   104863        1617     True     foot     True                279   \n",
       "2   104863        1959    False     body     True                540   \n",
       "\n",
       "   avg_review_score number_of_clicks_before  ordered_before     0     1     2  \\\n",
       "0          2.653361                       2            True  hair  body  None   \n",
       "1          4.924063                       2            True  hair  body  None   \n",
       "2          3.049224                       2            True  hair  body  None   \n",
       "\n",
       "      3     4     5     6     7     8     9  \n",
       "0  None  None  None  None  None  None  None  \n",
       "1  None  None  None  None  None  None  None  \n",
       "2  None  None  None  None  None  None  None  "
      ]
     },
     "execution_count": 35,
     "metadata": {},
     "output_type": "execute_result"
    }
   ],
   "source": [
    "merged_data.head(3)"
   ]
  },
  {
   "cell_type": "code",
   "execution_count": 36,
   "metadata": {},
   "outputs": [
    {
     "name": "stderr",
     "output_type": "stream",
     "text": [
      "D:\\Anaconda\\lib\\site-packages\\pandas\\core\\frame.py:3781: SettingWithCopyWarning: \n",
      "A value is trying to be set on a copy of a slice from a DataFrame\n",
      "\n",
      "See the caveats in the documentation: http://pandas.pydata.org/pandas-docs/stable/indexing.html#indexing-view-versus-copy\n",
      "  return super(DataFrame, self).rename(**kwargs)\n"
     ]
    }
   ],
   "source": [
    "# The aim of this part is to make a dataframe so that all columns of 0 to 9 of merged_data_2 be stacked in one column.\n",
    "\n",
    "df0=merged_data[[\"clicked\",\"product_id\",\"category\",\"on_sale\",\"number_of_reviews\",\"avg_review_score\",\n",
    "                   \"user_id\",\"number_of_clicks_before\",\"ordered_before\",0]]\n",
    "df0.rename(columns={0:'personal_interests'},inplace=True)\n",
    "\n",
    "df1=merged_data[[\"clicked\",\"product_id\",\"category\",\"on_sale\",\"number_of_reviews\",\"avg_review_score\",\n",
    "                   \"user_id\",\"number_of_clicks_before\",\"ordered_before\",1]]\n",
    "df1.rename(columns={1:'personal_interests'},inplace=True)\n",
    "\n",
    "df2=merged_data[[\"clicked\",\"product_id\",\"category\",\"on_sale\",\"number_of_reviews\",\"avg_review_score\",\n",
    "                   \"user_id\",\"number_of_clicks_before\",\"ordered_before\",2]]\n",
    "df2.rename(columns={2:'personal_interests'},inplace=True)\n",
    "\n",
    "df3=merged_data[[\"clicked\",\"product_id\",\"category\",\"on_sale\",\"number_of_reviews\",\"avg_review_score\",\n",
    "                   \"user_id\",\"number_of_clicks_before\",\"ordered_before\",3]]\n",
    "df3.rename(columns={3:'personal_interests'},inplace=True)\n",
    "\n",
    "df4=merged_data[[\"clicked\",\"product_id\",\"category\",\"on_sale\",\"number_of_reviews\",\"avg_review_score\",\n",
    "                   \"user_id\",\"number_of_clicks_before\",\"ordered_before\",4]]\n",
    "df4.rename(columns={4:'personal_interests'},inplace=True)\n",
    "\n",
    "df5=merged_data[[\"clicked\",\"product_id\",\"category\",\"on_sale\",\"number_of_reviews\",\"avg_review_score\",\n",
    "                   \"user_id\",\"number_of_clicks_before\",\"ordered_before\",5]]\n",
    "df5.rename(columns={5:'personal_interests'},inplace=True)\n",
    "\n",
    "df6=merged_data[[\"clicked\",\"product_id\",\"category\",\"on_sale\",\"number_of_reviews\",\"avg_review_score\",\n",
    "                   \"user_id\",\"number_of_clicks_before\",\"ordered_before\",6]]\n",
    "df6.rename(columns={6:'personal_interests'},inplace=True)\n",
    "\n",
    "df7=merged_data[[\"clicked\",\"product_id\",\"category\",\"on_sale\",\"number_of_reviews\",\"avg_review_score\",\n",
    "                   \"user_id\",\"number_of_clicks_before\",\"ordered_before\",7]]\n",
    "df7.rename(columns={7:'personal_interests'},inplace=True)\n",
    "\n",
    "df8=merged_data[[\"clicked\",\"product_id\",\"category\",\"on_sale\",\"number_of_reviews\",\"avg_review_score\",\n",
    "                   \"user_id\",\"number_of_clicks_before\",\"ordered_before\",8]]\n",
    "df8.rename(columns={8:'personal_interests'},inplace=True)\n",
    "\n",
    "df9=merged_data[[\"clicked\",\"product_id\",\"category\",\"on_sale\",\"number_of_reviews\",\"avg_review_score\",\n",
    "                   \"user_id\",\"number_of_clicks_before\",\"ordered_before\",9]]\n",
    "df9.rename(columns={9:'personal_interests'},inplace=True)\n",
    "\n",
    "mydata=pd.concat([df0,df1,df2,df3,df4,df5,df6,df7,df8,df9])\n",
    "mydata.drop_duplicates(inplace=True)\n",
    "mydata.dropna(subset=['personal_interests'],inplace=True)"
   ]
  },
  {
   "cell_type": "code",
   "execution_count": 37,
   "metadata": {},
   "outputs": [
    {
     "data": {
      "text/plain": [
       "(164570, 10)"
      ]
     },
     "execution_count": 37,
     "metadata": {},
     "output_type": "execute_result"
    }
   ],
   "source": [
    "mydata.shape"
   ]
  },
  {
   "cell_type": "code",
   "execution_count": 38,
   "metadata": {},
   "outputs": [
    {
     "data": {
      "text/plain": [
       "clicked                       2\n",
       "product_id                  922\n",
       "category                     11\n",
       "on_sale                       2\n",
       "number_of_reviews           573\n",
       "avg_review_score            824\n",
       "user_id                    6554\n",
       "number_of_clicks_before       7\n",
       "ordered_before                2\n",
       "personal_interests           11\n",
       "dtype: int64"
      ]
     },
     "execution_count": 38,
     "metadata": {},
     "output_type": "execute_result"
    }
   ],
   "source": [
    "mydata.nunique()"
   ]
  },
  {
   "cell_type": "code",
   "execution_count": 39,
   "metadata": {},
   "outputs": [
    {
     "data": {
      "text/plain": [
       "clicked                       0\n",
       "product_id                    0\n",
       "category                      0\n",
       "on_sale                       0\n",
       "number_of_reviews             0\n",
       "avg_review_score              0\n",
       "user_id                       0\n",
       "number_of_clicks_before    7009\n",
       "ordered_before                0\n",
       "personal_interests            0\n",
       "dtype: int64"
      ]
     },
     "execution_count": 39,
     "metadata": {},
     "output_type": "execute_result"
    }
   ],
   "source": [
    "mydata.isnull().sum()"
   ]
  },
  {
   "cell_type": "code",
   "execution_count": 40,
   "metadata": {},
   "outputs": [],
   "source": [
    "# Drop the rows for them \"number_of_clicks_before\" is missing.\n",
    "mydata.dropna(subset=['number_of_clicks_before'],inplace=True)"
   ]
  },
  {
   "cell_type": "code",
   "execution_count": 41,
   "metadata": {},
   "outputs": [],
   "source": [
    "# Convert the categoric and boolean variables to numeric\n",
    "for col in mydata.columns:\n",
    "    if mydata[col].dtype in [bool,object] :\n",
    "        mydata[col]=mydata[col].astype('category').cat.codes       "
   ]
  },
  {
   "cell_type": "code",
   "execution_count": 42,
   "metadata": {},
   "outputs": [
    {
     "name": "stdout",
     "output_type": "stream",
     "text": [
      "shape of 'mydata': (157561, 10)\n"
     ]
    },
    {
     "data": {
      "text/html": [
       "<div>\n",
       "<style scoped>\n",
       "    .dataframe tbody tr th:only-of-type {\n",
       "        vertical-align: middle;\n",
       "    }\n",
       "\n",
       "    .dataframe tbody tr th {\n",
       "        vertical-align: top;\n",
       "    }\n",
       "\n",
       "    .dataframe thead th {\n",
       "        text-align: right;\n",
       "    }\n",
       "</style>\n",
       "<table border=\"1\" class=\"dataframe\">\n",
       "  <thead>\n",
       "    <tr style=\"text-align: right;\">\n",
       "      <th></th>\n",
       "      <th>clicked</th>\n",
       "      <th>product_id</th>\n",
       "      <th>category</th>\n",
       "      <th>on_sale</th>\n",
       "      <th>number_of_reviews</th>\n",
       "      <th>avg_review_score</th>\n",
       "      <th>user_id</th>\n",
       "      <th>number_of_clicks_before</th>\n",
       "      <th>ordered_before</th>\n",
       "      <th>personal_interests</th>\n",
       "    </tr>\n",
       "  </thead>\n",
       "  <tbody>\n",
       "    <tr>\n",
       "      <th>0</th>\n",
       "      <td>0</td>\n",
       "      <td>1350</td>\n",
       "      <td>8</td>\n",
       "      <td>0</td>\n",
       "      <td>136</td>\n",
       "      <td>2.653361</td>\n",
       "      <td>104863</td>\n",
       "      <td>2</td>\n",
       "      <td>1</td>\n",
       "      <td>3</td>\n",
       "    </tr>\n",
       "    <tr>\n",
       "      <th>1</th>\n",
       "      <td>1</td>\n",
       "      <td>1617</td>\n",
       "      <td>1</td>\n",
       "      <td>1</td>\n",
       "      <td>279</td>\n",
       "      <td>4.924063</td>\n",
       "      <td>104863</td>\n",
       "      <td>2</td>\n",
       "      <td>1</td>\n",
       "      <td>3</td>\n",
       "    </tr>\n",
       "    <tr>\n",
       "      <th>2</th>\n",
       "      <td>0</td>\n",
       "      <td>1959</td>\n",
       "      <td>0</td>\n",
       "      <td>1</td>\n",
       "      <td>540</td>\n",
       "      <td>3.049224</td>\n",
       "      <td>104863</td>\n",
       "      <td>2</td>\n",
       "      <td>1</td>\n",
       "      <td>3</td>\n",
       "    </tr>\n",
       "    <tr>\n",
       "      <th>3</th>\n",
       "      <td>0</td>\n",
       "      <td>1920</td>\n",
       "      <td>0</td>\n",
       "      <td>1</td>\n",
       "      <td>776</td>\n",
       "      <td>1.562768</td>\n",
       "      <td>104863</td>\n",
       "      <td>2</td>\n",
       "      <td>1</td>\n",
       "      <td>3</td>\n",
       "    </tr>\n",
       "    <tr>\n",
       "      <th>4</th>\n",
       "      <td>0</td>\n",
       "      <td>1138</td>\n",
       "      <td>5</td>\n",
       "      <td>1</td>\n",
       "      <td>104</td>\n",
       "      <td>1.996069</td>\n",
       "      <td>104863</td>\n",
       "      <td>2</td>\n",
       "      <td>1</td>\n",
       "      <td>3</td>\n",
       "    </tr>\n",
       "  </tbody>\n",
       "</table>\n",
       "</div>"
      ],
      "text/plain": [
       "   clicked  product_id  category  on_sale  number_of_reviews  \\\n",
       "0        0        1350         8        0                136   \n",
       "1        1        1617         1        1                279   \n",
       "2        0        1959         0        1                540   \n",
       "3        0        1920         0        1                776   \n",
       "4        0        1138         5        1                104   \n",
       "\n",
       "   avg_review_score  user_id  number_of_clicks_before  ordered_before  \\\n",
       "0          2.653361   104863                        2               1   \n",
       "1          4.924063   104863                        2               1   \n",
       "2          3.049224   104863                        2               1   \n",
       "3          1.562768   104863                        2               1   \n",
       "4          1.996069   104863                        2               1   \n",
       "\n",
       "   personal_interests  \n",
       "0                   3  \n",
       "1                   3  \n",
       "2                   3  \n",
       "3                   3  \n",
       "4                   3  "
      ]
     },
     "execution_count": 42,
     "metadata": {},
     "output_type": "execute_result"
    }
   ],
   "source": [
    "print(\"shape of 'mydata':\",mydata.shape)\n",
    "mydata.head()"
   ]
  },
  {
   "cell_type": "code",
   "execution_count": 43,
   "metadata": {},
   "outputs": [
    {
     "data": {
      "text/plain": [
       "<matplotlib.axes._subplots.AxesSubplot at 0x21502ef1668>"
      ]
     },
     "execution_count": 43,
     "metadata": {},
     "output_type": "execute_result"
    },
    {
     "data": {
      "image/png": "[encoded data removed]",
      "text/plain": [
       "<Figure size 432x288 with 1 Axes>"
      ]
     },
     "metadata": {
      "needs_background": "light"
     },
     "output_type": "display_data"
    }
   ],
   "source": [
    "# Is the target variable well_balanced?\n",
    "mydata.clicked.hist()"
   ]
  },
  {
   "cell_type": "markdown",
   "metadata": {},
   "source": [
    "It seems that we have more target variables labeled as zero than one. So we are dealing with an imbalanced data."
   ]
  },
  {
   "cell_type": "markdown",
   "metadata": {},
   "source": [
    "# Question 3: Model Generation and Evaluation"
   ]
  },
  {
   "cell_type": "code",
   "execution_count": 44,
   "metadata": {},
   "outputs": [],
   "source": [
    "y=mydata.iloc[:,0]\n",
    "X=mydata.iloc[:,1:10]"
   ]
  },
  {
   "cell_type": "code",
   "execution_count": 45,
   "metadata": {},
   "outputs": [
    {
     "data": {
      "text/html": [
       "<div>\n",
       "<style scoped>\n",
       "    .dataframe tbody tr th:only-of-type {\n",
       "        vertical-align: middle;\n",
       "    }\n",
       "\n",
       "    .dataframe tbody tr th {\n",
       "        vertical-align: top;\n",
       "    }\n",
       "\n",
       "    .dataframe thead th {\n",
       "        text-align: right;\n",
       "    }\n",
       "</style>\n",
       "<table border=\"1\" class=\"dataframe\">\n",
       "  <thead>\n",
       "    <tr style=\"text-align: right;\">\n",
       "      <th></th>\n",
       "      <th>product_id</th>\n",
       "      <th>category</th>\n",
       "      <th>on_sale</th>\n",
       "      <th>number_of_reviews</th>\n",
       "      <th>avg_review_score</th>\n",
       "      <th>user_id</th>\n",
       "      <th>number_of_clicks_before</th>\n",
       "      <th>ordered_before</th>\n",
       "      <th>personal_interests</th>\n",
       "    </tr>\n",
       "  </thead>\n",
       "  <tbody>\n",
       "    <tr>\n",
       "      <th>0</th>\n",
       "      <td>1350</td>\n",
       "      <td>8</td>\n",
       "      <td>0</td>\n",
       "      <td>136</td>\n",
       "      <td>2.653361</td>\n",
       "      <td>104863</td>\n",
       "      <td>2</td>\n",
       "      <td>1</td>\n",
       "      <td>3</td>\n",
       "    </tr>\n",
       "    <tr>\n",
       "      <th>1</th>\n",
       "      <td>1617</td>\n",
       "      <td>1</td>\n",
       "      <td>1</td>\n",
       "      <td>279</td>\n",
       "      <td>4.924063</td>\n",
       "      <td>104863</td>\n",
       "      <td>2</td>\n",
       "      <td>1</td>\n",
       "      <td>3</td>\n",
       "    </tr>\n",
       "    <tr>\n",
       "      <th>2</th>\n",
       "      <td>1959</td>\n",
       "      <td>0</td>\n",
       "      <td>1</td>\n",
       "      <td>540</td>\n",
       "      <td>3.049224</td>\n",
       "      <td>104863</td>\n",
       "      <td>2</td>\n",
       "      <td>1</td>\n",
       "      <td>3</td>\n",
       "    </tr>\n",
       "    <tr>\n",
       "      <th>3</th>\n",
       "      <td>1920</td>\n",
       "      <td>0</td>\n",
       "      <td>1</td>\n",
       "      <td>776</td>\n",
       "      <td>1.562768</td>\n",
       "      <td>104863</td>\n",
       "      <td>2</td>\n",
       "      <td>1</td>\n",
       "      <td>3</td>\n",
       "    </tr>\n",
       "    <tr>\n",
       "      <th>4</th>\n",
       "      <td>1138</td>\n",
       "      <td>5</td>\n",
       "      <td>1</td>\n",
       "      <td>104</td>\n",
       "      <td>1.996069</td>\n",
       "      <td>104863</td>\n",
       "      <td>2</td>\n",
       "      <td>1</td>\n",
       "      <td>3</td>\n",
       "    </tr>\n",
       "  </tbody>\n",
       "</table>\n",
       "</div>"
      ],
      "text/plain": [
       "   product_id  category  on_sale  number_of_reviews  avg_review_score  \\\n",
       "0        1350         8        0                136          2.653361   \n",
       "1        1617         1        1                279          4.924063   \n",
       "2        1959         0        1                540          3.049224   \n",
       "3        1920         0        1                776          1.562768   \n",
       "4        1138         5        1                104          1.996069   \n",
       "\n",
       "   user_id  number_of_clicks_before  ordered_before  personal_interests  \n",
       "0   104863                        2               1                   3  \n",
       "1   104863                        2               1                   3  \n",
       "2   104863                        2               1                   3  \n",
       "3   104863                        2               1                   3  \n",
       "4   104863                        2               1                   3  "
      ]
     },
     "execution_count": 45,
     "metadata": {},
     "output_type": "execute_result"
    }
   ],
   "source": [
    "X.head()"
   ]
  },
  {
   "cell_type": "code",
   "execution_count": 46,
   "metadata": {},
   "outputs": [],
   "source": [
    "# Split to train and test\n",
    "X_train, X_test,y_train,y_test=train_test_split(X,y,test_size=0.3,random_state=67)"
   ]
  },
  {
   "cell_type": "code",
   "execution_count": 47,
   "metadata": {},
   "outputs": [
    {
     "name": "stderr",
     "output_type": "stream",
     "text": [
      "C:\\Users\\Fatemeh Goudarzi\\AppData\\Roaming\\Python\\Python37\\site-packages\\sklearn\\preprocessing\\data.py:625: DataConversionWarning: Data with input dtype int8, int64, float64 were all converted to float64 by StandardScaler.\n",
      "  return self.partial_fit(X, y)\n",
      "C:\\Users\\Fatemeh Goudarzi\\AppData\\Roaming\\Python\\Python37\\site-packages\\sklearn\\base.py:462: DataConversionWarning: Data with input dtype int8, int64, float64 were all converted to float64 by StandardScaler.\n",
      "  return self.fit(X, **fit_params).transform(X)\n",
      "D:\\Anaconda\\lib\\site-packages\\ipykernel_launcher.py:4: DataConversionWarning: Data with input dtype int8, int64, float64 were all converted to float64 by StandardScaler.\n",
      "  after removing the cwd from sys.path.\n"
     ]
    }
   ],
   "source": [
    "# Rescale data\n",
    "scaler = StandardScaler()\n",
    "X_train_scaled = scaler.fit_transform(X_train)\n",
    "X_test_scaled = scaler.transform(X_test)"
   ]
  },
  {
   "cell_type": "code",
   "execution_count": 48,
   "metadata": {},
   "outputs": [
    {
     "name": "stdout",
     "output_type": "stream",
     "text": [
      "{'C': 0.0001, 'class_weight': 'balanced', 'solver': 'liblinear'} , best score: 58.53%  ,correspinding train score: 58.76%\n"
     ]
    }
   ],
   "source": [
    "# Logistic regression\n",
    "# These three lists will hold the best score, classifier name and the corresponding parameters.\n",
    "# At the end, I will make a data frame and will find the best classifier. \n",
    "# Models comparison is based on AUC_ROC score of the test dataset.\n",
    "best_scores=[]\n",
    "best_models=[]\n",
    "best_params=[]\n",
    "\n",
    "grid_param={               \n",
    "            'solver' :['lbfgs', 'liblinear', 'sag', 'saga'], \n",
    "            'class_weight':['balanced',None],\n",
    "            'C':[0.00001,0.0001,0.001,0.01]   \n",
    "            }   \n",
    "\n",
    "best_score=0\n",
    "c_train_score=0\n",
    "parameters=[]\n",
    "lr_test_auc_scores=[] \n",
    "\n",
    "for p in ParameterGrid(grid_param):\n",
    "    clf= linear_model.LogisticRegression()\n",
    "    clf.set_params(**p)\n",
    "\n",
    "    parameters.append(p)\n",
    "    fitted=clf.fit(X_train_scaled,y_train)\n",
    "    \n",
    "    lr_train_pred=fitted.predict(X_train_scaled)\n",
    "    lr_test_pred=fitted.predict(X_test_scaled)\n",
    "    \n",
    "    lr_train_auc = metrics.roc_auc_score(y_train,lr_train_pred)\n",
    "    lr_test_auc = metrics.roc_auc_score(y_test,lr_test_pred)\n",
    "    lr_test_auc_scores.append(lr_test_auc)\n",
    "\n",
    "    if lr_test_auc > best_score:\n",
    "            best_param=p\n",
    "            best_score=lr_test_auc\n",
    "            c_train_score=lr_train_auc\n",
    "print (best_param, \", best score:\",\"{:.2%}\".format(best_score),' ,correspinding train score:',\"{:.2%}\".format(c_train_score))\n",
    "\n",
    "best_scores.append(best_score)\n",
    "best_models.append(\"Logestic Regression\")\n",
    "best_params.append(best_param)"
   ]
  },
  {
   "cell_type": "code",
   "execution_count": 49,
   "metadata": {},
   "outputs": [
    {
     "name": "stdout",
     "output_type": "stream",
     "text": [
      "{'criterion': 'gini', 'max_depth': 19} , best test score: 93.38%  ,correspinding train score: 95.68%\n"
     ]
    }
   ],
   "source": [
    "# Decision Tree\n",
    "grid_param={'criterion':['gini','entropy'],\n",
    "            'max_depth':range(3,20)\n",
    "            }   \n",
    "\n",
    "best_score=0\n",
    "c_train_score=0\n",
    "parameters=[]\n",
    "dt_test_auc_scores=[]\n",
    "\n",
    "for p in ParameterGrid(grid_param):\n",
    "    clf= tree.DecisionTreeClassifier()\n",
    "    clf.set_params(**p)\n",
    "\n",
    "    parameters.append(p)\n",
    "    fitted=clf.fit(X_train_scaled,y_train)\n",
    "    \n",
    "    dt_train_pred=fitted.predict(X_train_scaled)\n",
    "    dt_test_pred=fitted.predict(X_test_scaled)\n",
    "    \n",
    "    dt_train_auc = metrics.roc_auc_score(y_train,dt_train_pred)\n",
    "    dt_test_auc = metrics.roc_auc_score(y_test,dt_test_pred)\n",
    "    dt_test_auc_scores.append(dt_test_auc)\n",
    "\n",
    "    if dt_test_auc > best_score:\n",
    "            best_param=p\n",
    "            c_train_score=dt_train_auc\n",
    "            best_score=dt_test_auc            \n",
    "print (best_param, \", best test score:\",\"{:.2%}\".format(best_score),' ,correspinding train score:',\"{:.2%}\".format(c_train_score))\n",
    "best_scores.append(best_score)\n",
    "best_models.append(\"Decision Tree\")\n",
    "best_params.append(best_param)"
   ]
  },
  {
   "cell_type": "code",
   "execution_count": 50,
   "metadata": {},
   "outputs": [
    {
     "name": "stdout",
     "output_type": "stream",
     "text": [
      "test score 54.79%  ,correspinding train score: 92.84%\n"
     ]
    }
   ],
   "source": [
    "# Naive Bayes\n",
    "   \n",
    "clf= GaussianNB(priors=None, var_smoothing=1e-09)\n",
    "\n",
    "clf.fit(X_train_scaled,y_train)\n",
    "\n",
    "nb_train_pred=fitted.predict(X_train_scaled)\n",
    "nb_test_pred=clf.predict(X_test_scaled)\n",
    "\n",
    "nb_test_auc = metrics.roc_auc_score(y_test,nb_test_pred)\n",
    "nb_train_auc = metrics.roc_auc_score(y_train,nb_train_pred)\n",
    "\n",
    "print(\"test score\",\"{:.2%}\".format(nb_test_auc),' ,correspinding train score:',\"{:.2%}\".format(nb_train_auc))\n",
    "best_scores.append(nb_test_auc)\n",
    "best_models.append(\"GaussianNB\")\n",
    "best_params.append({'priors':None, 'var_smoothing':1e-09})"
   ]
  },
  {
   "cell_type": "code",
   "execution_count": 51,
   "metadata": {},
   "outputs": [
    {
     "name": "stderr",
     "output_type": "stream",
     "text": [
      "C:\\Users\\Fatemeh Goudarzi\\AppData\\Roaming\\Python\\Python37\\site-packages\\sklearn\\preprocessing\\data.py:323: DataConversionWarning: Data with input dtype int8, int64, float64 were all converted to float64 by MinMaxScaler.\n",
      "  return self.partial_fit(X, y)\n"
     ]
    },
    {
     "name": "stdout",
     "output_type": "stream",
     "text": [
      "{'solver': 'adam', 'max_iter': 1000, 'learning_rate': 'constant', 'hidden_layer_sizes': (40, 20), 'alpha': 0.001, 'activation': 'tanh'} , best score: 65.59% , correspinding train score: 66.63%\n"
     ]
    }
   ],
   "source": [
    "# Neural Networks\n",
    "# rescale data to [0, 1]\n",
    "scaler = MinMaxScaler()\n",
    "X_train_MMscaled = scaler.fit_transform(X_train)\n",
    "X_test_MMscaled = scaler.transform(X_test)\n",
    "\n",
    "grid_param={\n",
    "            'learning_rate': ['constant', 'invscaling', 'adaptive'],\n",
    "            'solver':['adam'],\n",
    "            'hidden_layer_sizes': [10,20,30,(5,5,5),(40,20)],\n",
    "            'alpha': [0.0001,0.001,0.01,1,10],\n",
    "            'activation': ['identity', 'logistic', 'tanh', 'relu'],\n",
    "            'max_iter':[1000],\n",
    "}\n",
    "\n",
    "param_list = list(ParameterSampler(grid_param, n_iter=10))\n",
    "\n",
    "best_score=0\n",
    "c_train_score=0\n",
    "parameters=[]\n",
    "nn_test_auc_scores=[]\n",
    " \n",
    "for p in param_list:\n",
    "    clf=MLPClassifier()\n",
    "    clf.set_params(**p)   \n",
    "    parameters.append(p)\n",
    "    fitted=clf.fit(X_train_MMscaled,y_train)\n",
    "    \n",
    "    nn_train_pred=fitted.predict(X_train_MMscaled)\n",
    "    nn_test_pred=fitted.predict(X_test_MMscaled)\n",
    "    nn_train_auc = metrics.roc_auc_score(y_train,nn_train_pred)\n",
    "    nn_test_auc = metrics.roc_auc_score(y_test,nn_test_pred)\n",
    "    nn_test_auc_scores.append(nn_test_auc)\n",
    "\n",
    "    if nn_test_auc > best_score:\n",
    "            best_param=p\n",
    "            best_score=nn_test_auc\n",
    "            c_train_score=nn_train_auc\n",
    "print (best_param, \", best score:\",\"{:.2%}\".format(best_score),', correspinding train score:',\"{:.2%}\".format(c_train_score))\n",
    "best_scores.append(best_score)\n",
    "best_models.append(\"Neural Networks\")\n",
    "best_params.append(best_param)"
   ]
  },
  {
   "cell_type": "code",
   "execution_count": 52,
   "metadata": {},
   "outputs": [
    {
     "name": "stdout",
     "output_type": "stream",
     "text": [
      "{'max_depth': 20, 'max_features': 'log2', 'n_estimators': 250} , best score: 95.14% , correspinding train score: 99.32%\n"
     ]
    }
   ],
   "source": [
    "# Random Forest\n",
    "grid_param={\n",
    "            'n_estimators':[150,200,250],\n",
    "            'max_features':['auto','log2'],\n",
    "            'max_depth':[3,10,15,20]   \n",
    "            }   \n",
    "\n",
    "best_score=0\n",
    "c_train_score=0\n",
    "parameters=[]\n",
    "rf_test_auc_scores=[]\n",
    "   \n",
    "for p in ParameterGrid(grid_param):\n",
    "    clf= RandomForestClassifier(n_jobs=-1)\n",
    "    clf.set_params(**p)\n",
    "\n",
    "    parameters.append(p)\n",
    "    fitted=clf.fit(X_train_scaled,y_train)\n",
    "    rf_train_pred=fitted.predict(X_train_scaled)\n",
    "    rf_test_pred=fitted.predict(X_test_scaled)\n",
    "    \n",
    "    rf_train_auc = metrics.roc_auc_score(y_train,rf_train_pred)\n",
    "    rf_test_auc = metrics.roc_auc_score(y_test,rf_test_pred)\n",
    "    rf_test_auc_scores.append(rf_test_auc)\n",
    "\n",
    "    if rf_test_auc > best_score:\n",
    "            best_param=p\n",
    "            best_score=rf_test_auc\n",
    "            c_train_score=rf_train_auc\n",
    "print (best_param, \", best score:\",\"{:.2%}\".format(best_score),', correspinding train score:',\"{:.2%}\".format(c_train_score))\n",
    "best_scores.append(best_score)\n",
    "best_models.append(\"Random Forest\")\n",
    "best_params.append(best_param)"
   ]
  },
  {
   "cell_type": "code",
   "execution_count": 53,
   "metadata": {},
   "outputs": [
    {
     "name": "stdout",
     "output_type": "stream",
     "text": [
      "{'degree': 2, 'kernel': 'rbf'} , best score: 60.84% , correspinding train score: 61.26%\n"
     ]
    }
   ],
   "source": [
    "# Support Vector Machine\n",
    "grid_param={\n",
    "            'kernel':['linear', 'poly', 'rbf'], \n",
    "            'degree' : [2,3]\n",
    "            }   \n",
    "\n",
    "best_score=0\n",
    "c_train_score=0\n",
    "parameters=[]\n",
    "svm_test_auc_scores=[]\n",
    "   \n",
    "for p in ParameterGrid(grid_param):\n",
    "    clf = svm.SVC(gamma='auto',max_iter=-1,class_weight='balanced')\n",
    "    clf.set_params(**p)\n",
    "\n",
    "    parameters.append(p)\n",
    "    fitted=clf.fit(X_train_scaled,y_train)\n",
    "    svm_train_pred=fitted.predict(X_train_scaled)\n",
    "    svm_test_pred=fitted.predict(X_test_scaled)\n",
    "    \n",
    "    svm_train_auc = metrics.roc_auc_score(y_train,svm_train_pred)\n",
    "    svm_test_auc = metrics.roc_auc_score(y_test,svm_test_pred)\n",
    "    svm_test_auc_scores.append(svm_test_auc)\n",
    "\n",
    "    if svm_test_auc > best_score:\n",
    "            best_param=p\n",
    "            best_score=svm_test_auc\n",
    "            c_train_score=svm_train_auc\n",
    "print (best_param, \", best score:\",\"{:.2%}\".format(best_score),', correspinding train score:',\"{:.2%}\".format(c_train_score))\n",
    "best_scores.append(best_score)\n",
    "best_models.append(\"SVM\")\n",
    "best_params.append(best_param)"
   ]
  },
  {
   "cell_type": "code",
   "execution_count": 54,
   "metadata": {},
   "outputs": [
    {
     "name": "stdout",
     "output_type": "stream",
     "text": [
      "{'learning_rate': 1, 'n_estimators': 150} , best score: 72.90% , correspinding train score: 72.90%\n"
     ]
    }
   ],
   "source": [
    "# Ada Boosting\n",
    "grid_param={\n",
    "            'n_estimators':[50, 100, 150], \n",
    "            'learning_rate' : [0.0001,0.001,0.001,0.1,1],\n",
    "            }   \n",
    "\n",
    "best_score=0\n",
    "c_train_score=0\n",
    "parameters=[]\n",
    "adb_test_auc_scores=[]\n",
    "   \n",
    "for p in ParameterGrid(grid_param):\n",
    "    clf = AdaBoostClassifier()\n",
    "    clf.set_params(**p)\n",
    "\n",
    "    parameters.append(p)\n",
    "    fitted=clf.fit(X_train_scaled,y_train)\n",
    "    adb_train_pred=fitted.predict(X_train_scaled)\n",
    "    adb_test_pred=fitted.predict(X_test_scaled)\n",
    "    \n",
    "    adb_train_auc = metrics.roc_auc_score(y_train,adb_train_pred)\n",
    "    adb_test_auc = metrics.roc_auc_score(y_test,adb_test_pred)\n",
    "    adb_test_auc_scores.append(adb_test_auc)\n",
    "\n",
    "    if adb_test_auc > best_score:\n",
    "            best_param=p\n",
    "            best_score=adb_test_auc\n",
    "            c_train_score=adb_train_auc\n",
    "print (best_param, \", best score:\",\"{:.2%}\".format(best_score),', correspinding train score:',\"{:.2%}\".format(c_train_score))\n",
    "best_scores.append(best_score)\n",
    "best_models.append(\"Adb\")\n",
    "best_params.append(best_param)"
   ]
  },
  {
   "cell_type": "markdown",
   "metadata": {},
   "source": [
    "# Question 4: Which model has the best performance? What have you learned from the models you built? (10 points)"
   ]
  },
  {
   "cell_type": "code",
   "execution_count": 55,
   "metadata": {},
   "outputs": [],
   "source": [
    "# Make a dataframe which contains models name as index and the corresponding best score and parameters.\n",
    "result=pd.DataFrame({\"Test_Score\":best_scores,\"Param\":best_params},index=best_models)\n",
    "result=result.sort_values(\"Test_Score\", ascending = True)"
   ]
  },
  {
   "cell_type": "code",
   "execution_count": 56,
   "metadata": {},
   "outputs": [
    {
     "data": {
      "text/plain": [
       "<BarContainer object of 7 artists>"
      ]
     },
     "execution_count": 56,
     "metadata": {},
     "output_type": "execute_result"
    },
    {
     "data": {
      "image/png": "[encoded data removed]",
      "text/plain": [
       "<Figure size 432x288 with 1 Axes>"
      ]
     },
     "metadata": {
      "needs_background": "light"
     },
     "output_type": "display_data"
    }
   ],
   "source": [
    "plt.barh(result.index,result.Test_Score)"
   ]
  },
  {
   "cell_type": "code",
   "execution_count": 57,
   "metadata": {},
   "outputs": [
    {
     "data": {
      "text/html": [
       "<div>\n",
       "<style scoped>\n",
       "    .dataframe tbody tr th:only-of-type {\n",
       "        vertical-align: middle;\n",
       "    }\n",
       "\n",
       "    .dataframe tbody tr th {\n",
       "        vertical-align: top;\n",
       "    }\n",
       "\n",
       "    .dataframe thead th {\n",
       "        text-align: right;\n",
       "    }\n",
       "</style>\n",
       "<table border=\"1\" class=\"dataframe\">\n",
       "  <thead>\n",
       "    <tr style=\"text-align: right;\">\n",
       "      <th></th>\n",
       "      <th>Test_Score</th>\n",
       "      <th>Param</th>\n",
       "    </tr>\n",
       "  </thead>\n",
       "  <tbody>\n",
       "    <tr>\n",
       "      <th>Random Forest</th>\n",
       "      <td>0.951444</td>\n",
       "      <td>{'max_depth': 20, 'max_features': 'log2', 'n_estimators': 250}</td>\n",
       "    </tr>\n",
       "  </tbody>\n",
       "</table>\n",
       "</div>"
      ],
      "text/plain": [
       "               Test_Score  \\\n",
       "Random Forest    0.951444   \n",
       "\n",
       "                                                                        Param  \n",
       "Random Forest  {'max_depth': 20, 'max_features': 'log2', 'n_estimators': 250}  "
      ]
     },
     "execution_count": 57,
     "metadata": {},
     "output_type": "execute_result"
    }
   ],
   "source": [
    "m=max(result.Test_Score)\n",
    "result[result.Test_Score==m]"
   ]
  },
  {
   "cell_type": "code",
   "execution_count": 61,
   "metadata": {},
   "outputs": [
    {
     "name": "stdout",
     "output_type": "stream",
     "text": [
      "roc_auc_score: 95.03%\n",
      "accuracy: 95.36%\n",
      "precision: 93.27%\n",
      "recall: 93.86%\n",
      "f1: 93.56%\n",
      "[[29135  1151]\n",
      " [ 1043 15940]]\n"
     ]
    }
   ],
   "source": [
    "# Build the model again the best classifier with the best parameters\n",
    "clf= RandomForestClassifier(n_jobs=-1,max_depth= 20, max_features= 'log2', n_estimators= 250)\n",
    "clf.fit(X_train_scaled,y_train)\n",
    "clf_y_test_pred=clf.predict(X_test_scaled)\n",
    "print(\"roc_auc_score:\",\"{:.2%}\".format(metrics.roc_auc_score(y_test,clf_y_test_pred)))\n",
    "print(\"accuracy:\",\"{:.2%}\".format(metrics.accuracy_score(y_test,clf_y_test_pred)))\n",
    "print(\"precision:\",\"{:.2%}\".format(metrics.precision_score(y_test,clf_y_test_pred)))\n",
    "print(\"recall:\",\"{:.2%}\".format(metrics.recall_score(y_test,clf_y_test_pred)))\n",
    "print(\"f1:\",\"{:.2%}\".format(metrics.f1_score(y_test,clf_y_test_pred)))\n",
    "print(metrics.confusion_matrix(y_test,clf_y_test_pred))"
   ]
  },
  {
   "cell_type": "code",
   "execution_count": 62,
   "metadata": {},
   "outputs": [
    {
     "data": {
      "image/png": "[encoded data removed]",
      "text/plain": [
       "<Figure size 432x360 with 1 Axes>"
      ]
     },
     "metadata": {
      "needs_background": "light"
     },
     "output_type": "display_data"
    }
   ],
   "source": [
    "features=X.columns \n",
    "importances = clf.feature_importances_  \n",
    "\n",
    "#Build a dataframe form features and the corresponding importance \n",
    "feature_importance=pd.DataFrame(importances,index=features,columns=['importance']).sort_values('importance',ascending=True)\n",
    "\n",
    "#Draw feature importance bar plot\n",
    "plt.figure(figsize=(6,5))\n",
    "plt.title('Feature Importances')\n",
    "plt.barh(feature_importance.index ,feature_importance.importance, color='green', align='center',height=0.5)\n",
    "plt.xlabel('Relative Importance')\n",
    "plt.show()"
   ]
  },
  {
   "cell_type": "markdown",
   "metadata": {},
   "source": [
    "Random Forest has the highest roc_auc score for the test dataset. \"Number of reviwes\" and \"user_id\" were the most important features respectively. \n",
    "Data understanding and data cleansing was the hardest, the most time-consuming and the most important part. The quality of this part can greatly affect the quality of rest of work. \n",
    "Amongst different classifiers, SVM was the slowest. "
   ]
  }
 ],
 "metadata": {
  "kernelspec": {
   "display_name": "Python 3",
   "language": "python",
   "name": "python3"
  },
  "language_info": {
   "codemirror_mode": {
    "name": "ipython",
    "version": 3
   },
   "file_extension": ".py",
   "mimetype": "text/x-python",
   "name": "python",
   "nbconvert_exporter": "python",
   "pygments_lexer": "ipython3",
   "version": "3.7.1"
  }
 },
 "nbformat": 4,
 "nbformat_minor": 2
}
